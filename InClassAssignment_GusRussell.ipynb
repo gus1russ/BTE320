{
  "nbformat": 4,
  "nbformat_minor": 0,
  "metadata": {
    "colab": {
      "provenance": [],
      "authorship_tag": "ABX9TyPbNkqmRD8bbzsBKyGQPLvy",
      "include_colab_link": true
    },
    "kernelspec": {
      "name": "python3",
      "display_name": "Python 3"
    },
    "language_info": {
      "name": "python"
    }
  },
  "cells": [
    {
      "cell_type": "markdown",
      "metadata": {
        "id": "view-in-github",
        "colab_type": "text"
      },
      "source": [
        "<a href=\"https://colab.research.google.com/github/gus1russ/BTE320/blob/main/InClassAssignment_GusRussell.ipynb\" target=\"_parent\"><img src=\"https://colab.research.google.com/assets/colab-badge.svg\" alt=\"Open In Colab\"/></a>"
      ]
    },
    {
      "cell_type": "markdown",
      "source": [
        "Income Statement In Class Assignment - BTE 320"
      ],
      "metadata": {
        "id": "50eVPV2khEkq"
      }
    },
    {
      "cell_type": "code",
      "execution_count": null,
      "metadata": {
        "colab": {
          "base_uri": "https://localhost:8080/"
        },
        "id": "GKmOauv2gb4N",
        "outputId": "60e91fd4-c57c-411f-db7c-64d0143bab20"
      },
      "outputs": [
        {
          "output_type": "stream",
          "name": "stdout",
          "text": [
            "Enter Sales ($):12000\n",
            "Enter Cost of Goods Sold (%):40\n",
            "Enter Tax Rate (%):30\n",
            "Sales: $12000.0\n",
            "Cost of Goods Sold: $4800.0\n",
            "Gross Profit: $7200.0\n",
            "Tax: $2160.0\n",
            "Net Income: $5040.0\n"
          ]
        }
      ],
      "source": [
        "#input sales and COGS\n",
        "sales = float(input('Enter Sales ($):'))\n",
        "COGS_pct = float(input('Enter Cost of Goods Sold (%):'))\n",
        "taxRate = float(input('Enter Tax Rate (%):'))\n",
        "\n",
        "#processing is to calculate COGS and gross profit\n",
        "COGS = sales * COGS_pct / 100\n",
        "grossProfit = sales - COGS\n",
        "tax = grossProfit * taxRate / 100\n",
        "netIncome = grossProfit - tax\n",
        "\n",
        "#outputs print using f string\n",
        "print(f'Sales: ${sales}')\n",
        "print(f'Cost of Goods Sold: ${COGS}')\n",
        "print(f'Gross Profit: ${grossProfit}')\n",
        "print(f'Tax: ${tax}')\n",
        "print(f'Net Income: ${netIncome}')"
      ]
    },
    {
      "cell_type": "markdown",
      "source": [
        "Inventory Management In class Assignment"
      ],
      "metadata": {
        "id": "fSS9xK27J7on"
      }
    },
    {
      "cell_type": "code",
      "source": [
        "# you can do import math OR raise the expression to the 0.5 power\n",
        "#Inputs\n",
        "D = int(input('Enter Annual Demand (units/year):'))\n",
        "S = float(input('Enter Reorder Cost ($/order):'))\n",
        "H = float(input('Enter Annual Holding Cost ($/unit/year):'))\n",
        "\n",
        "#Processing\n",
        "#with math module EOQ = math.sqrt(2 * D * S / H)\n",
        "EOQ = (2 * D * S / H)**(0.5) #without math\n",
        "\n",
        "#Outputs\n",
        "print(f'Economic Order Quantity: {int(EOQ)} units')"
      ],
      "metadata": {
        "colab": {
          "base_uri": "https://localhost:8080/"
        },
        "collapsed": true,
        "id": "g7FSizGsKAFz",
        "outputId": "ce39963f-1cc0-435e-fbcb-2aef45dce6b7"
      },
      "execution_count": null,
      "outputs": [
        {
          "output_type": "stream",
          "name": "stdout",
          "text": [
            "Enter Annual Demand (units/year):100\n",
            "Enter Reorder Cost ($/order):1.5\n",
            "Enter Annual Holding Cost ($/unit/year):3\n",
            "Economic Order Quantity: 10.0 units\n"
          ]
        }
      ]
    },
    {
      "cell_type": "markdown",
      "source": [
        "Numerical Calculator - If/elif/else statements"
      ],
      "metadata": {
        "id": "aNN5ngKzNPdI"
      }
    },
    {
      "cell_type": "code",
      "source": [
        "no1 = float(input('Enter first number: '))\n",
        "no2 = float(input('Enter second number: '))\n",
        "operator = input('Enter operator (+,-,*,/,**): ')\n",
        "\n",
        "res = None\n",
        "\n",
        "if operator == '+':\n",
        "  res = no1 + no2\n",
        "elif operator == '-':\n",
        "  res = no1 - no2\n",
        "elif operator == '*':\n",
        "  res = no1 * no2\n",
        "elif operator == '/':\n",
        "  res = no1 / no2\n",
        "elif operator == '**':\n",
        "  res = no1 ** no2\n",
        "elif operator == '//':\n",
        "  res = no1 // no2\n",
        "elif operator == '%':\n",
        "  res = no1 % no2\n",
        "else:\n",
        "  res = None\n",
        "  print('Invalid operator')\n",
        "\n",
        "print(f'Result: {res}')\n"
      ],
      "metadata": {
        "colab": {
          "base_uri": "https://localhost:8080/"
        },
        "id": "LJriWLscNU2a",
        "outputId": "3cadb6dc-9bb0-435a-fa75-a733e8be23b3"
      },
      "execution_count": null,
      "outputs": [
        {
          "output_type": "stream",
          "name": "stdout",
          "text": [
            "Enter first number: 34\n",
            "Enter second number: 3\n",
            "Enter operator (+,-,*,/,**): f\n",
            "Invalid operator\n",
            "Result: None\n"
          ]
        }
      ]
    },
    {
      "cell_type": "markdown",
      "source": [
        "Parking Garage (for/while loop) In Class Assignment"
      ],
      "metadata": {
        "id": "6KbubsB5grKz"
      }
    },
    {
      "cell_type": "code",
      "source": [
        "print('Hour    Fee')\n",
        "print('-------------')\n",
        "for h in range(1,9):\n",
        "  rate = 5 + 2.5*h\n",
        "  if rate < 10:\n",
        "    rate = 10\n",
        "  elif rate > 20:\n",
        "    rate = 20\n",
        "  print(f'{h}\\t{rate}')\n",
        "\n",
        "\n",
        "\n"
      ],
      "metadata": {
        "colab": {
          "base_uri": "https://localhost:8080/"
        },
        "id": "EcJF4PLZgxbo",
        "outputId": "459fdec4-dc8b-4d5b-846d-b349dc6c0893"
      },
      "execution_count": null,
      "outputs": [
        {
          "output_type": "stream",
          "name": "stdout",
          "text": [
            "Hour    Fee\n",
            "-------------\n",
            "1\t10\n",
            "2\t10.0\n",
            "3\t12.5\n",
            "4\t15.0\n",
            "5\t17.5\n",
            "6\t20.0\n",
            "7\t20\n",
            "8\t20\n"
          ]
        }
      ]
    },
    {
      "cell_type": "markdown",
      "source": [
        "Movie Theater (for/while loop) In Class Assignment"
      ],
      "metadata": {
        "id": "hBKUPIeWP2zy"
      }
    },
    {
      "cell_type": "code",
      "source": [
        "print('Ad', \"Profit\")\n",
        "for ad in range(0,201,25):\n",
        "  revenue = 20 * 10 + 10 * 2 * ad ** 0.5\n",
        "  expenses = 200 + ad\n",
        "  profit = revenue - expenses\n",
        "  print(ad, round(profit) )\n"
      ],
      "metadata": {
        "colab": {
          "base_uri": "https://localhost:8080/"
        },
        "id": "vRfNIV80P8FO",
        "outputId": "48d641d3-d943-45c8-a4f6-ec6906bf9b68"
      },
      "execution_count": null,
      "outputs": [
        {
          "output_type": "stream",
          "name": "stdout",
          "text": [
            "Ad Profit\n",
            "0 0\n",
            "25 75\n",
            "50 91\n",
            "75 98\n",
            "100 100\n",
            "125 99\n",
            "150 95\n",
            "175 90\n",
            "200 83\n"
          ]
        }
      ]
    },
    {
      "cell_type": "markdown",
      "source": [
        "Append items to list iteratively (while loop) In Class Assignment"
      ],
      "metadata": {
        "id": "yvFuSM3BuoMQ"
      }
    },
    {
      "cell_type": "code",
      "source": [
        "l = []\n",
        "num = float(input('give a #: '))\n",
        "while num != 0:\n",
        "  l.append(num)\n",
        "  num = float(input('give another #: '))\n",
        "l.sort(reverse = True)\n",
        "print(l)"
      ],
      "metadata": {
        "colab": {
          "base_uri": "https://localhost:8080/"
        },
        "id": "LQCaFZtMwMn7",
        "outputId": "6beca228-fccb-40e4-d299-d6a9a97f2510"
      },
      "execution_count": 5,
      "outputs": [
        {
          "output_type": "stream",
          "name": "stdout",
          "text": [
            "give a #: 3\n",
            "give another #: 4\n",
            "give another #: 5\n",
            "give another #: 6\n",
            "give another #: 5\n",
            "give another #: 6\n",
            "give another #: 454\n",
            "give another #: 53\n",
            "give another #: 45\n",
            "give another #: 34534\n",
            "give another #: 5\n",
            "give another #: 0\n",
            "[34534.0, 454.0, 53.0, 45.0, 6.0, 6.0, 5.0, 5.0, 5.0, 4.0, 3.0]\n"
          ]
        }
      ]
    }
  ]
}