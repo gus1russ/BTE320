{
  "nbformat": 4,
  "nbformat_minor": 0,
  "metadata": {
    "colab": {
      "provenance": [],
      "authorship_tag": "ABX9TyN3GoF+4DshLMBQ5JYe2KAv",
      "include_colab_link": true
    },
    "kernelspec": {
      "name": "python3",
      "display_name": "Python 3"
    },
    "language_info": {
      "name": "python"
    }
  },
  "cells": [
    {
      "cell_type": "markdown",
      "metadata": {
        "id": "view-in-github",
        "colab_type": "text"
      },
      "source": [
        "<a href=\"https://colab.research.google.com/github/gus1russ/BTE320/blob/main/InClassAssignment_GusRussell.ipynb\" target=\"_parent\"><img src=\"https://colab.research.google.com/assets/colab-badge.svg\" alt=\"Open In Colab\"/></a>"
      ]
    },
    {
      "cell_type": "markdown",
      "source": [
        "Income Statement In Class Assignment - BTE 320"
      ],
      "metadata": {
        "id": "50eVPV2khEkq"
      }
    },
    {
      "cell_type": "code",
      "execution_count": null,
      "metadata": {
        "colab": {
          "base_uri": "https://localhost:8080/"
        },
        "id": "GKmOauv2gb4N",
        "outputId": "60e91fd4-c57c-411f-db7c-64d0143bab20"
      },
      "outputs": [
        {
          "output_type": "stream",
          "name": "stdout",
          "text": [
            "Enter Sales ($):12000\n",
            "Enter Cost of Goods Sold (%):40\n",
            "Enter Tax Rate (%):30\n",
            "Sales: $12000.0\n",
            "Cost of Goods Sold: $4800.0\n",
            "Gross Profit: $7200.0\n",
            "Tax: $2160.0\n",
            "Net Income: $5040.0\n"
          ]
        }
      ],
      "source": [
        "#input sales and COGS\n",
        "sales = float(input('Enter Sales ($):'))\n",
        "COGS_pct = float(input('Enter Cost of Goods Sold (%):'))\n",
        "taxRate = float(input('Enter Tax Rate (%):'))\n",
        "\n",
        "#processing is to calculate COGS and gross profit\n",
        "COGS = sales * COGS_pct / 100\n",
        "grossProfit = sales - COGS\n",
        "tax = grossProfit * taxRate / 100\n",
        "netIncome = grossProfit - tax\n",
        "\n",
        "#outputs print using f string\n",
        "print(f'Sales: ${sales}')\n",
        "print(f'Cost of Goods Sold: ${COGS}')\n",
        "print(f'Gross Profit: ${grossProfit}')\n",
        "print(f'Tax: ${tax}')\n",
        "print(f'Net Income: ${netIncome}')"
      ]
    },
    {
      "cell_type": "markdown",
      "source": [
        "Inventory Management In class Assignment"
      ],
      "metadata": {
        "id": "fSS9xK27J7on"
      }
    },
    {
      "cell_type": "code",
      "source": [
        "# you can do import math OR raise the expression to the 0.5 power\n",
        "#Inputs\n",
        "D = int(input('Enter Annual Demand (units/year):'))\n",
        "S = float(input('Enter Reorder Cost ($/order):'))\n",
        "H = float(input('Enter Annual Holding Cost ($/unit/year):'))\n",
        "\n",
        "#Processing\n",
        "#with math module EOQ = math.sqrt(2 * D * S / H)\n",
        "EOQ = (2 * D * S / H)**(0.5) #without math\n",
        "\n",
        "#Outputs\n",
        "print(f'Economic Order Quantity: {int(EOQ)} units')"
      ],
      "metadata": {
        "colab": {
          "base_uri": "https://localhost:8080/"
        },
        "collapsed": true,
        "id": "g7FSizGsKAFz",
        "outputId": "ce39963f-1cc0-435e-fbcb-2aef45dce6b7"
      },
      "execution_count": null,
      "outputs": [
        {
          "output_type": "stream",
          "name": "stdout",
          "text": [
            "Enter Annual Demand (units/year):100\n",
            "Enter Reorder Cost ($/order):1.5\n",
            "Enter Annual Holding Cost ($/unit/year):3\n",
            "Economic Order Quantity: 10.0 units\n"
          ]
        }
      ]
    },
    {
      "cell_type": "markdown",
      "source": [
        "Numerical Calculator - If/elif/else statements"
      ],
      "metadata": {
        "id": "aNN5ngKzNPdI"
      }
    },
    {
      "cell_type": "code",
      "source": [
        "no1 = float(input('Enter first number: '))\n",
        "no2 = float(input('Enter second number: '))\n",
        "operator = input('Enter operator (+,-,*,/,**): ')\n",
        "\n",
        "res = None\n",
        "\n",
        "if operator == '+':\n",
        "  res = no1 + no2\n",
        "elif operator == '-':\n",
        "  res = no1 - no2\n",
        "elif operator == '*':\n",
        "  res = no1 * no2\n",
        "elif operator == '/':\n",
        "  res = no1 / no2\n",
        "elif operator == '**':\n",
        "  res = no1 ** no2\n",
        "elif operator == '//':\n",
        "  res = no1 // no2\n",
        "elif operator == '%':\n",
        "  res = no1 % no2\n",
        "else:\n",
        "  res = None\n",
        "  print('Invalid operator')\n",
        "\n",
        "print(f'Result: {res}')\n"
      ],
      "metadata": {
        "colab": {
          "base_uri": "https://localhost:8080/"
        },
        "id": "LJriWLscNU2a",
        "outputId": "3cadb6dc-9bb0-435a-fa75-a733e8be23b3"
      },
      "execution_count": null,
      "outputs": [
        {
          "output_type": "stream",
          "name": "stdout",
          "text": [
            "Enter first number: 34\n",
            "Enter second number: 3\n",
            "Enter operator (+,-,*,/,**): f\n",
            "Invalid operator\n",
            "Result: None\n"
          ]
        }
      ]
    },
    {
      "cell_type": "markdown",
      "source": [
        "Parking Garage (for/while loop) In Class Assignment"
      ],
      "metadata": {
        "id": "6KbubsB5grKz"
      }
    },
    {
      "cell_type": "code",
      "source": [
        "print('Hour    Fee')\n",
        "print('-------------')\n",
        "for h in range(1,9):\n",
        "  rate = 5 + 2.5*h\n",
        "  if rate < 10:\n",
        "    rate = 10\n",
        "  elif rate > 20:\n",
        "    rate = 20\n",
        "  print(f'{h}\\t{rate}')\n",
        "\n",
        "\n",
        "\n"
      ],
      "metadata": {
        "colab": {
          "base_uri": "https://localhost:8080/"
        },
        "id": "EcJF4PLZgxbo",
        "outputId": "459fdec4-dc8b-4d5b-846d-b349dc6c0893"
      },
      "execution_count": null,
      "outputs": [
        {
          "output_type": "stream",
          "name": "stdout",
          "text": [
            "Hour    Fee\n",
            "-------------\n",
            "1\t10\n",
            "2\t10.0\n",
            "3\t12.5\n",
            "4\t15.0\n",
            "5\t17.5\n",
            "6\t20.0\n",
            "7\t20\n",
            "8\t20\n"
          ]
        }
      ]
    },
    {
      "cell_type": "markdown",
      "source": [
        "Movie Theater (for/while loop) In Class Assignment"
      ],
      "metadata": {
        "id": "hBKUPIeWP2zy"
      }
    },
    {
      "cell_type": "code",
      "source": [
        "print('Ad', \"Profit\")\n",
        "for ad in range(0,201,25):\n",
        "  revenue = 20 * 10 + 10 * 2 * ad ** 0.5\n",
        "  expenses = 200 + ad\n",
        "  profit = revenue - expenses\n",
        "  print(ad, round(profit) )\n"
      ],
      "metadata": {
        "colab": {
          "base_uri": "https://localhost:8080/"
        },
        "id": "vRfNIV80P8FO",
        "outputId": "48d641d3-d943-45c8-a4f6-ec6906bf9b68"
      },
      "execution_count": null,
      "outputs": [
        {
          "output_type": "stream",
          "name": "stdout",
          "text": [
            "Ad Profit\n",
            "0 0\n",
            "25 75\n",
            "50 91\n",
            "75 98\n",
            "100 100\n",
            "125 99\n",
            "150 95\n",
            "175 90\n",
            "200 83\n"
          ]
        }
      ]
    },
    {
      "cell_type": "markdown",
      "source": [
        "Append items to list iteratively (while loop) In Class Assignment"
      ],
      "metadata": {
        "id": "yvFuSM3BuoMQ"
      }
    },
    {
      "cell_type": "code",
      "source": [
        "l = []\n",
        "num = float(input('give a #: '))\n",
        "while num != 0:\n",
        "  l.append(num)\n",
        "  num = float(input('give another #: '))\n",
        "l.sort(reverse = True)\n",
        "print(l)"
      ],
      "metadata": {
        "colab": {
          "base_uri": "https://localhost:8080/"
        },
        "id": "LQCaFZtMwMn7",
        "outputId": "6beca228-fccb-40e4-d299-d6a9a97f2510"
      },
      "execution_count": null,
      "outputs": [
        {
          "output_type": "stream",
          "name": "stdout",
          "text": [
            "give a #: 3\n",
            "give another #: 4\n",
            "give another #: 5\n",
            "give another #: 6\n",
            "give another #: 5\n",
            "give another #: 6\n",
            "give another #: 454\n",
            "give another #: 53\n",
            "give another #: 45\n",
            "give another #: 34534\n",
            "give another #: 5\n",
            "give another #: 0\n",
            "[34534.0, 454.0, 53.0, 45.0, 6.0, 6.0, 5.0, 5.0, 5.0, 4.0, 3.0]\n"
          ]
        }
      ]
    },
    {
      "cell_type": "markdown",
      "source": [
        "Rock-Paper-Scissors (while loops) In class assignment"
      ],
      "metadata": {
        "id": "UzVQwWdXfDUY"
      }
    },
    {
      "cell_type": "code",
      "source": [
        "import random\n",
        "\n",
        "play = input('want to play rock paper scissors?(y/n) ').lower()\n",
        "while play =='y':\n",
        "  playerChoice = input('enter your choice: ')\n",
        "  computerChoice = random.choice(['rock','paper','scissors'])\n",
        "  print(f'computer choice: {computerChoice}')\n",
        "  if playerChoice == computerChoice:\n",
        "    print('tie')\n",
        "  elif playerChoice == 'rock':\n",
        "    if computerChoice == 'paper':\n",
        "      print('computer wins')\n",
        "    elif computerChoice == 'scissors':\n",
        "      print('player wins')\n",
        "  elif playerChoice == 'paper':\n",
        "    if computerChoice == 'rock':\n",
        "      print('player wins')\n",
        "    elif computerChoice == 'scissors':\n",
        "      print('computer wins')\n",
        "  elif playerChoice == 'scissors':\n",
        "    if computerChoice =='rock':\n",
        "      print('computer wins')\n",
        "    elif computerChoice == 'paper':\n",
        "      print('player wins')\n",
        "  play = input('want to play again?(y/n) ')\n",
        "print('bye')\n"
      ],
      "metadata": {
        "colab": {
          "base_uri": "https://localhost:8080/"
        },
        "id": "ItImgBl2fGnj",
        "outputId": "52d49e2d-16f3-4016-87a6-5db796b74eda"
      },
      "execution_count": null,
      "outputs": [
        {
          "output_type": "stream",
          "name": "stdout",
          "text": [
            "want to play rock paper scissors?(y/n) y\n",
            "enter your choice: rock\n",
            "computer choice: scissors\n",
            "player wins\n",
            "want to play again?(y/n) n\n",
            "bye\n"
          ]
        }
      ]
    },
    {
      "cell_type": "code",
      "source": [],
      "metadata": {
        "id": "2MqieGmypd2N"
      },
      "execution_count": null,
      "outputs": []
    },
    {
      "cell_type": "code",
      "source": [
        "import random\n",
        "\n",
        "while True:\n",
        "\n",
        "  play = input('do you want to play a game (y/n)? ' ).lower()\n",
        "\n",
        "  if play != 'y':\n",
        "    break\n",
        "\n",
        " # rock paper scissors game here...\n",
        "  user_choice = input('choose between rock, paper, or scissors: ')\n",
        "  pc_choice = random.choice(['rock','paper','scissors'])\n",
        "\n",
        "  if user_choice == pc_choice:\n",
        "   print('tie')\n",
        "  elif (\n",
        "      user_choice == 'rock' and pc_choice == 'scissors' or\n",
        "      user_choice == 'paper' and pc_choice == 'rock' or\n",
        "      user_choice == 'scissors' and pc_choice == 'paper'):\n",
        "    print('you win')\n",
        "  else:\n",
        "    print('computer wins')\n",
        "\n",
        "\n",
        "\n"
      ],
      "metadata": {
        "colab": {
          "base_uri": "https://localhost:8080/"
        },
        "id": "AxKlhRYzhyyx",
        "outputId": "94782b36-3c4c-422e-afe4-3260d285ada0"
      },
      "execution_count": null,
      "outputs": [
        {
          "name": "stdout",
          "output_type": "stream",
          "text": [
            "do you want to play a game (y/n)? y\n",
            "choose between rock, paper, or scissors: rock\n",
            "tie\n",
            "do you want to play a game (y/n)? y\n",
            "choose between rock, paper, or scissors: scissors\n",
            "computer wins\n",
            "do you want to play a game (y/n)? n\n"
          ]
        }
      ]
    },
    {
      "cell_type": "markdown",
      "source": [
        "Product Prices (dictionaries) In Class Assignment"
      ],
      "metadata": {
        "id": "lz7x19M2wFOL"
      }
    },
    {
      "cell_type": "code",
      "source": [
        "prod_prices = {\n",
        "    'P-01':9.95,\n",
        "    'P-02':10.50\n",
        "  }\n",
        "\n",
        "user_call = input('Enter a product ID: ')\n",
        "\n",
        "if user_call in prod_prices:\n",
        "  print(user_call,prod_prices[user_call])\n",
        "else:\n",
        "  print('product not found')"
      ],
      "metadata": {
        "colab": {
          "base_uri": "https://localhost:8080/"
        },
        "id": "jWw_hHgiwDrA",
        "outputId": "a825763b-94a7-485a-cff8-9fdef33103a7"
      },
      "execution_count": null,
      "outputs": [
        {
          "output_type": "stream",
          "name": "stdout",
          "text": [
            "Enter a product ID: kfkd\n",
            "product not found\n"
          ]
        }
      ]
    },
    {
      "cell_type": "markdown",
      "source": [
        "Recursive function: string reversal"
      ],
      "metadata": {
        "id": "r_4mxG2KtK5j"
      }
    },
    {
      "cell_type": "code",
      "source": [
        "string = input('Enter a string: ')\n",
        "\n",
        "def reverse(string):\n",
        "  if len(string) == 0:\n",
        "    return string\n",
        "  else:\n",
        "    return reverse(string[1:]) + string[0]\n",
        "\n",
        "print(reverse(string))"
      ],
      "metadata": {
        "colab": {
          "base_uri": "https://localhost:8080/"
        },
        "id": "8Xaf1v-0tOxa",
        "outputId": "01b4f7ca-a338-4986-9489-16e029bae6c2"
      },
      "execution_count": 2,
      "outputs": [
        {
          "output_type": "stream",
          "name": "stdout",
          "text": [
            "Enter a string: recursion\n",
            "noisrucer\n"
          ]
        }
      ]
    }
  ]
}