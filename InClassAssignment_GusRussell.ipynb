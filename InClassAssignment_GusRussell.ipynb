{
  "nbformat": 4,
  "nbformat_minor": 0,
  "metadata": {
    "colab": {
      "provenance": [],
      "authorship_tag": "ABX9TyPs/55luRsyrOtrCKVQvTTZ",
      "include_colab_link": true
    },
    "kernelspec": {
      "name": "python3",
      "display_name": "Python 3"
    },
    "language_info": {
      "name": "python"
    }
  },
  "cells": [
    {
      "cell_type": "markdown",
      "metadata": {
        "id": "view-in-github",
        "colab_type": "text"
      },
      "source": [
        "<a href=\"https://colab.research.google.com/github/gus1russ/BTE320/blob/main/InClassAssignment_GusRussell.ipynb\" target=\"_parent\"><img src=\"https://colab.research.google.com/assets/colab-badge.svg\" alt=\"Open In Colab\"/></a>"
      ]
    },
    {
      "cell_type": "markdown",
      "source": [
        "Income Statement In Class Assignment - BTE 320"
      ],
      "metadata": {
        "id": "50eVPV2khEkq"
      }
    },
    {
      "cell_type": "code",
      "execution_count": 8,
      "metadata": {
        "colab": {
          "base_uri": "https://localhost:8080/"
        },
        "id": "GKmOauv2gb4N",
        "outputId": "60e91fd4-c57c-411f-db7c-64d0143bab20"
      },
      "outputs": [
        {
          "output_type": "stream",
          "name": "stdout",
          "text": [
            "Enter Sales ($):12000\n",
            "Enter Cost of Goods Sold (%):40\n",
            "Enter Tax Rate (%):30\n",
            "Sales: $12000.0\n",
            "Cost of Goods Sold: $4800.0\n",
            "Gross Profit: $7200.0\n",
            "Tax: $2160.0\n",
            "Net Income: $5040.0\n"
          ]
        }
      ],
      "source": [
        "#input sales and COGS\n",
        "sales = float(input('Enter Sales ($):'))\n",
        "COGS_pct = float(input('Enter Cost of Goods Sold (%):'))\n",
        "taxRate = float(input('Enter Tax Rate (%):'))\n",
        "\n",
        "#processing is to calculate COGS and gross profit\n",
        "COGS = sales * COGS_pct / 100\n",
        "grossProfit = sales - COGS\n",
        "tax = grossProfit * taxRate / 100\n",
        "netIncome = grossProfit - tax\n",
        "\n",
        "#outputs print using f string\n",
        "print(f'Sales: ${sales}')\n",
        "print(f'Cost of Goods Sold: ${COGS}')\n",
        "print(f'Gross Profit: ${grossProfit}')\n",
        "print(f'Tax: ${tax}')\n",
        "print(f'Net Income: ${netIncome}')"
      ]
    }
  ]
}